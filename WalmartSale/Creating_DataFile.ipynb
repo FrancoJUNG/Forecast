{
 "cells": [
  {
   "cell_type": "markdown",
   "metadata": {},
   "source": [
    "# Create Target Time Series File and Validation File"
   ]
  },
  {
   "cell_type": "code",
   "execution_count": 4,
   "metadata": {},
   "outputs": [],
   "source": [
    "import os\n",
    "import pandas as pd"
   ]
  },
  {
   "cell_type": "code",
   "execution_count": 5,
   "metadata": {},
   "outputs": [],
   "source": [
    "data_dir = 'data'\n",
    "train_file_name = 'train.csv'\n",
    "features_file_name = 'features.csv'\n",
    "store_file_name = 'stores.csv'\n",
    "train_data = pd.read_csv(os.path.join(data_dir,train_file_name))\n",
    "train_df = train_data.copy()\n",
    "train_df = train_df.rename(columns={'Date':'date', 'Store':'item_id'})"
   ]
  },
  {
   "cell_type": "code",
   "execution_count": 6,
   "metadata": {},
   "outputs": [],
   "source": [
    "temp_df = train_df.groupby(['item_id','date'])['Weekly_Sales'].sum()\n",
    "# df2 = pd.DataFrame(temp_df, columns=['Store','Date','Weekly_Sales'])\n",
    "stores_sales = pd.DataFrame(temp_df)\n",
    "stores_sales.reset_index(inplace=True)\n",
    "# print(stores_sales.groupby('Store').agg({'Date': ['min','max']}))\n",
    "stores_sales = stores_sales.set_index('date')\n",
    "\n"
   ]
  },
  {
   "cell_type": "code",
   "execution_count": 7,
   "metadata": {},
   "outputs": [],
   "source": [
    "\n",
    "stores_sales.item_id = stores_sales.item_id.astype(str)\n",
    "stores_sales.index = pd.to_datetime(stores_sales.index, format = '%Y-%m-%d' )\n",
    "stores_sales.index = stores_sales.index.strftime('%Y-%m-%d %H:%M:%S')\n",
    "\n",
    "#stores_sales.index = pd.to_datetime(stores_sales.index.strftime(\"yyyy-MM-dd hh:mm:ss\"))\n",
    "cols = ['Weekly_Sales', 'item_id']\n",
    "stores_sales = stores_sales[cols]"
   ]
  },
  {
   "cell_type": "markdown",
   "metadata": {},
   "source": [
    "## Split into target file and validation file"
   ]
  },
  {
   "cell_type": "code",
   "execution_count": 8,
   "metadata": {},
   "outputs": [],
   "source": [
    "target_stores_sales = stores_sales[stores_sales.index < '2011-10-01']\n",
    "validation_stores_sales = stores_sales[stores_sales.index >= '2011-10-01']\n"
   ]
  },
  {
   "cell_type": "code",
   "execution_count": 9,
   "metadata": {},
   "outputs": [],
   "source": [
    "# With the data in a great state, save it off as a CSV\n",
    "target_time_series_filename = \"target_time_series.csv\"\n",
    "target_time_series_path = data_dir + \"/\" + target_time_series_filename\n",
    "target_stores_sales.to_csv(target_time_series_path, header=False)"
   ]
  },
  {
   "cell_type": "code",
   "execution_count": 10,
   "metadata": {},
   "outputs": [],
   "source": [
    "# With the data in a great state, save it off as a CSV\n",
    "validation_time_series_filename = \"validation_time_series.csv\"\n",
    "validation_time_series_path = data_dir + \"/\" + validation_time_series_filename\n",
    "validation_stores_sales.to_csv(validation_time_series_path, header=False)"
   ]
  },
  {
   "cell_type": "code",
   "execution_count": 11,
   "metadata": {},
   "outputs": [
    {
     "name": "stdout",
     "output_type": "stream",
     "text": [
      "Stored 'target_stores_sales' (DataFrame)\n",
      "Stored 'validation_stores_sales' (DataFrame)\n",
      "Stored 'target_time_series_filename' (str)\n",
      "Stored 'target_time_series_path' (str)\n",
      "Stored 'validation_time_series_filename' (str)\n",
      "Stored 'validation_time_series_path' (str)\n"
     ]
    }
   ],
   "source": [
    "%store target_stores_sales\n",
    "%store validation_stores_sales\n",
    "%store target_time_series_filename\n",
    "%store target_time_series_path\n",
    "%store validation_time_series_filename\n",
    "%store validation_time_series_path"
   ]
  },
  {
   "cell_type": "code",
   "execution_count": null,
   "metadata": {},
   "outputs": [],
   "source": []
  },
  {
   "cell_type": "code",
   "execution_count": null,
   "metadata": {},
   "outputs": [],
   "source": []
  }
 ],
 "metadata": {
  "kernelspec": {
   "display_name": "conda_python3",
   "language": "python",
   "name": "conda_python3"
  },
  "language_info": {
   "codemirror_mode": {
    "name": "ipython",
    "version": 3
   },
   "file_extension": ".py",
   "mimetype": "text/x-python",
   "name": "python",
   "nbconvert_exporter": "python",
   "pygments_lexer": "ipython3",
   "version": "3.6.5"
  }
 },
 "nbformat": 4,
 "nbformat_minor": 4
}
