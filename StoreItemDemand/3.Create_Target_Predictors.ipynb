{
 "cells": [
  {
   "cell_type": "markdown",
   "metadata": {},
   "source": [
    "# Create predcitors with Prophet and DeepAR+\n",
    "\n",
    "* **About 40 mins may be elapsed**"
   ]
  },
  {
   "cell_type": "code",
   "execution_count": 1,
   "metadata": {},
   "outputs": [],
   "source": [
    "import boto3\n",
    "from time import sleep\n",
    "import pandas as pd\n",
    "import json\n",
    "import time\n",
    "import pprint\n",
    "import numpy as np"
   ]
  },
  {
   "cell_type": "code",
   "execution_count": 2,
   "metadata": {},
   "outputs": [],
   "source": [
    "# Recover variables \n",
    "%store -r"
   ]
  },
  {
   "cell_type": "code",
   "execution_count": 3,
   "metadata": {},
   "outputs": [],
   "source": [
    "session = boto3.Session(region_name=region)\n",
    "forecast = session.client(service_name='forecast')"
   ]
  },
  {
   "cell_type": "markdown",
   "metadata": {},
   "source": [
    "## Hyperparameters"
   ]
  },
  {
   "cell_type": "code",
   "execution_count": 4,
   "metadata": {},
   "outputs": [],
   "source": [
    "forecastHorizon = 31 # the number of forecasting\n",
    "NumberOfBacktestWindows = 2 # the number of Backtests\n",
    "BackTestWindowOffset = 31 # the point from the end of the dataset where the data is split for model training and testing \n",
    "ForecastFrequency = \"D\""
   ]
  },
  {
   "cell_type": "markdown",
   "metadata": {},
   "source": [
    "Detailed parameter info is [here](https://docs.aws.amazon.com/forecast/latest/dg/metrics.html)"
   ]
  },
  {
   "cell_type": "markdown",
   "metadata": {},
   "source": [
    "#### Predictor algorithms"
   ]
  },
  {
   "cell_type": "code",
   "execution_count": 5,
   "metadata": {},
   "outputs": [],
   "source": [
    "prophet_algorithmArn = 'arn:aws:forecast:::algorithm/Prophet'\n",
    "deepAR_Plus_algorithmArn = 'arn:aws:forecast:::algorithm/Deep_AR_Plus'"
   ]
  },
  {
   "cell_type": "markdown",
   "metadata": {},
   "source": [
    "### Prophet"
   ]
  },
  {
   "cell_type": "code",
   "execution_count": 6,
   "metadata": {},
   "outputs": [],
   "source": [
    "# Prophet Specifics\n",
    "prophet_predictorName= project+'_prophet_algo_1' + target_suffix + suffix"
   ]
  },
  {
   "cell_type": "code",
   "execution_count": 7,
   "metadata": {},
   "outputs": [],
   "source": [
    "# Build Prophet:\n",
    "prophet_create_predictor_response=forecast.create_predictor(\n",
    "      PredictorName=prophet_predictorName, \n",
    "      AlgorithmArn=prophet_algorithmArn,\n",
    "      ForecastHorizon=forecastHorizon,\n",
    "      PerformAutoML= False,\n",
    "      PerformHPO=False,\n",
    "      EvaluationParameters= {\"NumberOfBacktestWindows\": NumberOfBacktestWindows, \n",
    "                             \"BackTestWindowOffset\": BackTestWindowOffset}, \n",
    "      InputDataConfig= {\"DatasetGroupArn\": target_datasetGroupArn, \n",
    "                        \"SupplementaryFeatures\": [ \n",
    "                         { \n",
    "                            \"Name\": \"holiday\",\n",
    "                            \"Value\": \"US\"\n",
    "                         }\n",
    "                      ]},\n",
    "      FeaturizationConfig= {\"ForecastFrequency\": ForecastFrequency, \n",
    "                            \"ForecastDimensions\":\n",
    "                            [\"store\"],\n",
    "                            \"Featurizations\": \n",
    "                            [\n",
    "                              {\"AttributeName\": \"target_value\", \n",
    "                               \"FeaturizationPipeline\": \n",
    "                                [\n",
    "                                  {\"FeaturizationMethodName\": \"filling\", \n",
    "                                   \"FeaturizationMethodParameters\": \n",
    "                                    {\"frontfill\": \"none\", \n",
    "                                     \"middlefill\": \"zero\", \n",
    "                                     \"backfill\": \"zero\"}\n",
    "                                  }\n",
    "                                ]\n",
    "                              }\n",
    "                            ]\n",
    "                           }\n",
    "                                                 )\n",
    "\n",
    "\n"
   ]
  },
  {
   "cell_type": "markdown",
   "metadata": {},
   "source": [
    "### DeepAR+"
   ]
  },
  {
   "cell_type": "code",
   "execution_count": 8,
   "metadata": {},
   "outputs": [],
   "source": [
    "# DeepAR+ Specifics\n",
    "deeparp_predictorName= project+'_deeparp_algo_1' + suffix"
   ]
  },
  {
   "cell_type": "code",
   "execution_count": 9,
   "metadata": {},
   "outputs": [],
   "source": [
    "# Build DeepAR+:\n",
    "deeparp_create_predictor_response=forecast.create_predictor(\n",
    "      PredictorName=deeparp_predictorName, \n",
    "      AlgorithmArn=deepAR_Plus_algorithmArn,\n",
    "      ForecastHorizon=forecastHorizon,\n",
    "      PerformAutoML= False,\n",
    "      PerformHPO=False,\n",
    "      EvaluationParameters= {\"NumberOfBacktestWindows\": NumberOfBacktestWindows, \n",
    "                             \"BackTestWindowOffset\": BackTestWindowOffset}, \n",
    "      InputDataConfig= {\"DatasetGroupArn\": target_datasetGroupArn, \"SupplementaryFeatures\": [ \n",
    "                         { \n",
    "                            \"Name\": \"holiday\",\n",
    "                            \"Value\": \"US\"\n",
    "                         }\n",
    "                      ]},\n",
    "      FeaturizationConfig= {\"ForecastFrequency\": ForecastFrequency, \n",
    "                            \"ForecastDimensions\":\n",
    "                            [\"store\"],\n",
    "                            \n",
    "                            \"Featurizations\": \n",
    "                            [\n",
    "                              {\"AttributeName\": \"target_value\", \n",
    "                               \"FeaturizationPipeline\": \n",
    "                                [\n",
    "                                  {\"FeaturizationMethodName\": \"filling\", \n",
    "                                   \"FeaturizationMethodParameters\": \n",
    "                                    {\"frontfill\": \"none\", \n",
    "                                     \"middlefill\": \"zero\", \n",
    "                                     \"backfill\": \"zero\"}\n",
    "                                  }\n",
    "                                ]\n",
    "                              }\n",
    "                            ]\n",
    "                           }\n",
    "                                                 )\n",
    "\n",
    "\n",
    "\n"
   ]
  },
  {
   "cell_type": "markdown",
   "metadata": {},
   "source": [
    "## Check if the predictors are active\n"
   ]
  },
  {
   "cell_type": "code",
   "execution_count": 10,
   "metadata": {},
   "outputs": [],
   "source": [
    "# forecast.list_predictors(Filters=[\n",
    "#     {\"Condition\": \"IS\",\n",
    "#      \"Key\": \"DatasetGroupArn\", \n",
    "#      \"Value\": datasetGroupArn}\n",
    "# ])"
   ]
  },
  {
   "cell_type": "code",
   "execution_count": 11,
   "metadata": {},
   "outputs": [],
   "source": [
    "#prophet_predictor_arn = 'arn:aws:forecast:us-east-2:057716757052:predictor/WalmartKaggleGonsoo_prophet_algo_174655'\n",
    "target_prophet_predictorArn = prophet_create_predictor_response[\"PredictorArn\"]"
   ]
  },
  {
   "cell_type": "code",
   "execution_count": 12,
   "metadata": {},
   "outputs": [],
   "source": [
    "target_deepar_predictorArn = deeparp_create_predictor_response[\"PredictorArn\"]"
   ]
  },
  {
   "cell_type": "code",
   "execution_count": 19,
   "metadata": {},
   "outputs": [
    {
     "name": "stdout",
     "output_type": "stream",
     "text": [
      "Prophet:  ACTIVE\n",
      "DeepARP:  ACTIVE\n",
      "CPU times: user 3.69 ms, sys: 2.8 ms, total: 6.5 ms\n",
      "Wall time: 71.5 ms\n"
     ]
    }
   ],
   "source": [
    "%%time\n",
    "# Check the Prophet status\n",
    "\n",
    "while True:\n",
    "    createProphetPredictorStatus = forecast.describe_predictor(PredictorArn= target_prophet_predictorArn)['Status']\n",
    "    createDeeparpPredictorStatus = forecast.describe_predictor(PredictorArn= target_deepar_predictorArn)['Status']    \n",
    "    print(\"Prophet: \", createProphetPredictorStatus)\n",
    "    print(\"DeepARP: \", createDeeparpPredictorStatus)          \n",
    "    if createProphetPredictorStatus != 'ACTIVE' and createProphetPredictorStatus != 'CREATE_FAILED':\n",
    "        sleep(60)\n",
    "    elif createDeeparpPredictorStatus != 'ACTIVE' and createDeeparpPredictorStatus != 'CREATE_FAILED':\n",
    "        sleep(60)\n",
    "    else:\n",
    "        break"
   ]
  },
  {
   "cell_type": "markdown",
   "metadata": {},
   "source": [
    "## Predictor evaluation"
   ]
  },
  {
   "cell_type": "markdown",
   "metadata": {},
   "source": [
    "#### Prophet"
   ]
  },
  {
   "cell_type": "code",
   "execution_count": 20,
   "metadata": {},
   "outputs": [
    {
     "name": "stdout",
     "output_type": "stream",
     "text": [
      "{'PredictorEvaluationResults': [{'AlgorithmArn': 'arn:aws:forecast:::algorithm/Prophet',\n",
      "                                 'TestWindows': [{'EvaluationType': 'SUMMARY',\n",
      "                                                  'Metrics': {'RMSE': 8.458201855444848,\n",
      "                                                              'WeightedQuantileLosses': [{'LossValue': 0.05082779522512541,\n",
      "                                                                                          'Quantile': 0.9},\n",
      "                                                                                         {'LossValue': 0.10918503424565745,\n",
      "                                                                                          'Quantile': 0.5},\n",
      "                                                                                         {'LossValue': 0.046653896144418935,\n",
      "                                                                                          'Quantile': 0.1}]}},\n",
      "                                                 {'EvaluationType': 'COMPUTED',\n",
      "                                                  'ItemCount': 500,\n",
      "                                                  'Metrics': {'RMSE': 8.064198835651975,\n",
      "                                                              'WeightedQuantileLosses': [{'LossValue': 0.04874985496783629,\n",
      "                                                                                          'Quantile': 0.9},\n",
      "                                                                                         {'LossValue': 0.10779179582513404,\n",
      "                                                                                          'Quantile': 0.5},\n",
      "                                                                                         {'LossValue': 0.04659802856659378,\n",
      "                                                                                          'Quantile': 0.1}]},\n",
      "                                                  'TestWindowEnd': datetime.datetime(2017, 10, 31, 0, 0, tzinfo=tzlocal()),\n",
      "                                                  'TestWindowStart': datetime.datetime(2017, 9, 30, 0, 0, tzinfo=tzlocal())},\n",
      "                                                 {'EvaluationType': 'COMPUTED',\n",
      "                                                  'ItemCount': 500,\n",
      "                                                  'Metrics': {'RMSE': 8.852204875237726,\n",
      "                                                              'WeightedQuantileLosses': [{'LossValue': 0.052905735482414534,\n",
      "                                                                                          'Quantile': 0.9},\n",
      "                                                                                         {'LossValue': 0.110578272666181,\n",
      "                                                                                          'Quantile': 0.5},\n",
      "                                                                                         {'LossValue': 0.04670976372224402,\n",
      "                                                                                          'Quantile': 0.1}]},\n",
      "                                                  'TestWindowEnd': datetime.datetime(2017, 12, 1, 0, 0, tzinfo=tzlocal()),\n",
      "                                                  'TestWindowStart': datetime.datetime(2017, 10, 31, 0, 0, tzinfo=tzlocal())}]}],\n",
      " 'ResponseMetadata': {'HTTPHeaders': {'connection': 'keep-alive',\n",
      "                                      'content-length': '972',\n",
      "                                      'content-type': 'application/x-amz-json-1.1',\n",
      "                                      'date': 'Sat, 04 Apr 2020 10:44:52 GMT',\n",
      "                                      'x-amzn-requestid': '620e639b-bf05-42bf-9749-c40246c95ea0'},\n",
      "                      'HTTPStatusCode': 200,\n",
      "                      'RequestId': '620e639b-bf05-42bf-9749-c40246c95ea0',\n",
      "                      'RetryAttempts': 0}}\n"
     ]
    }
   ],
   "source": [
    "# Prophet Metrics\n",
    "# prophet_arn = prophet_create_predictor_response['PredictorArn']\n",
    "prophet_metrics = forecast.get_accuracy_metrics(PredictorArn=target_prophet_predictorArn)\n",
    "pp = pprint.PrettyPrinter()\n",
    "pp.pprint(prophet_metrics)"
   ]
  },
  {
   "cell_type": "markdown",
   "metadata": {},
   "source": [
    "#### DeepAR+"
   ]
  },
  {
   "cell_type": "code",
   "execution_count": 21,
   "metadata": {},
   "outputs": [
    {
     "name": "stdout",
     "output_type": "stream",
     "text": [
      "{'PredictorEvaluationResults': [{'AlgorithmArn': 'arn:aws:forecast:::algorithm/Deep_AR_Plus',\n",
      "                                 'TestWindows': [{'EvaluationType': 'SUMMARY',\n",
      "                                                  'Metrics': {'RMSE': 8.6278037788792,\n",
      "                                                              'WeightedQuantileLosses': [{'LossValue': 0.05153288965983034,\n",
      "                                                                                          'Quantile': 0.9},\n",
      "                                                                                         {'LossValue': 0.11113228665599806,\n",
      "                                                                                          'Quantile': 0.5},\n",
      "                                                                                         {'LossValue': 0.04729165976453416,\n",
      "                                                                                          'Quantile': 0.1}]}},\n",
      "                                                 {'EvaluationType': 'COMPUTED',\n",
      "                                                  'ItemCount': 500,\n",
      "                                                  'Metrics': {'RMSE': 8.25255028882122,\n",
      "                                                              'WeightedQuantileLosses': [{'LossValue': 0.05021142219622549,\n",
      "                                                                                          'Quantile': 0.9},\n",
      "                                                                                         {'LossValue': 0.1106466650576328,\n",
      "                                                                                          'Quantile': 0.5},\n",
      "                                                                                         {'LossValue': 0.047213662851265326,\n",
      "                                                                                          'Quantile': 0.1}]},\n",
      "                                                  'TestWindowEnd': datetime.datetime(2017, 10, 31, 0, 0, tzinfo=tzlocal()),\n",
      "                                                  'TestWindowStart': datetime.datetime(2017, 9, 30, 0, 0, tzinfo=tzlocal())},\n",
      "                                                 {'EvaluationType': 'COMPUTED',\n",
      "                                                  'ItemCount': 500,\n",
      "                                                  'Metrics': {'RMSE': 9.003057268937178,\n",
      "                                                              'WeightedQuantileLosses': [{'LossValue': 0.05285435712343519,\n",
      "                                                                                          'Quantile': 0.9},\n",
      "                                                                                         {'LossValue': 0.1116179082543633,\n",
      "                                                                                          'Quantile': 0.5},\n",
      "                                                                                         {'LossValue': 0.04736965667780292,\n",
      "                                                                                          'Quantile': 0.1}]},\n",
      "                                                  'TestWindowEnd': datetime.datetime(2017, 12, 1, 0, 0, tzinfo=tzlocal()),\n",
      "                                                  'TestWindowStart': datetime.datetime(2017, 10, 31, 0, 0, tzinfo=tzlocal())}]}],\n",
      " 'ResponseMetadata': {'HTTPHeaders': {'connection': 'keep-alive',\n",
      "                                      'content-length': '973',\n",
      "                                      'content-type': 'application/x-amz-json-1.1',\n",
      "                                      'date': 'Sat, 04 Apr 2020 10:45:08 GMT',\n",
      "                                      'x-amzn-requestid': '8796ead1-91bb-4f6b-8e75-4e39b9502868'},\n",
      "                      'HTTPStatusCode': 200,\n",
      "                      'RequestId': '8796ead1-91bb-4f6b-8e75-4e39b9502868',\n",
      "                      'RetryAttempts': 0}}\n"
     ]
    }
   ],
   "source": [
    "# DeepAR+ Metrics\n",
    "# deepar_predictor_arn = deeparp_create_predictor_response['PredictorArn']\n",
    "deeparp_metrics = forecast.get_accuracy_metrics(PredictorArn=target_deepar_predictorArn)\n",
    "pp = pprint.PrettyPrinter()\n",
    "pp.pprint(deeparp_metrics)"
   ]
  },
  {
   "cell_type": "code",
   "execution_count": 22,
   "metadata": {},
   "outputs": [
    {
     "name": "stdout",
     "output_type": "stream",
     "text": [
      "Stored 'target_prophet_predictorArn' (str)\n",
      "Stored 'target_deepar_predictorArn' (str)\n"
     ]
    }
   ],
   "source": [
    "%store target_prophet_predictorArn\n",
    "%store target_deepar_predictorArn"
   ]
  },
  {
   "cell_type": "code",
   "execution_count": null,
   "metadata": {},
   "outputs": [],
   "source": []
  },
  {
   "cell_type": "code",
   "execution_count": null,
   "metadata": {},
   "outputs": [],
   "source": []
  }
 ],
 "metadata": {
  "kernelspec": {
   "display_name": "conda_python3",
   "language": "python",
   "name": "conda_python3"
  },
  "language_info": {
   "codemirror_mode": {
    "name": "ipython",
    "version": 3
   },
   "file_extension": ".py",
   "mimetype": "text/x-python",
   "name": "python",
   "nbconvert_exporter": "python",
   "pygments_lexer": "ipython3",
   "version": "3.6.5"
  }
 },
 "nbformat": 4,
 "nbformat_minor": 4
}
