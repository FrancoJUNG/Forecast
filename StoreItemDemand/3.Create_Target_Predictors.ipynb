{
 "cells": [
  {
   "cell_type": "markdown",
   "metadata": {},
   "source": [
    "# Create predcitors with Prophet and DeepAR+\n",
    "\n",
    "* **About 40 mins may be elapsed**"
   ]
  },
  {
   "cell_type": "code",
   "execution_count": 22,
   "metadata": {},
   "outputs": [],
   "source": [
    "import boto3\n",
    "from time import sleep\n",
    "import pandas as pd\n",
    "import json\n",
    "import time\n",
    "import pprint\n",
    "import numpy as np"
   ]
  },
  {
   "cell_type": "code",
   "execution_count": 23,
   "metadata": {},
   "outputs": [],
   "source": [
    "# 다른 노트북에서 저장된 변수들을 불러옴\n",
    "%store -r"
   ]
  },
  {
   "cell_type": "code",
   "execution_count": 24,
   "metadata": {},
   "outputs": [],
   "source": [
    "session = boto3.Session(region_name=region)\n",
    "forecast = session.client(service_name='forecast')\n",
    "forecast_query = session.client(service_name='forecastquery')"
   ]
  },
  {
   "cell_type": "markdown",
   "metadata": {},
   "source": [
    "## Hyperparameters"
   ]
  },
  {
   "cell_type": "code",
   "execution_count": 25,
   "metadata": {
    "jupyter": {
     "source_hidden": true
    }
   },
   "outputs": [],
   "source": [
    "forecastHorizon = 31 # the number of forecasting\n",
    "NumberOfBacktestWindows = 2 # the number of Backtests\n",
    "BackTestWindowOffset = 31 # the point from the end of the dataset where the data is split for model training and testing \n",
    "ForecastFrequency = \"D\""
   ]
  },
  {
   "cell_type": "markdown",
   "metadata": {},
   "source": [
    "아래 파라미터의 상세 정보는 [여기](https://docs.aws.amazon.com/forecast/latest/dg/metrics.html) 를 보세요."
   ]
  },
  {
   "cell_type": "markdown",
   "metadata": {},
   "source": [
    "#### Predictor algorithms"
   ]
  },
  {
   "cell_type": "code",
   "execution_count": 26,
   "metadata": {},
   "outputs": [],
   "source": [
    "prophet_algorithmArn = 'arn:aws:forecast:::algorithm/Prophet'\n",
    "deepAR_Plus_algorithmArn = 'arn:aws:forecast:::algorithm/Deep_AR_Plus'"
   ]
  },
  {
   "cell_type": "markdown",
   "metadata": {},
   "source": [
    "### Prophet"
   ]
  },
  {
   "cell_type": "code",
   "execution_count": 27,
   "metadata": {},
   "outputs": [],
   "source": [
    "# Prophet Specifics\n",
    "prophet_predictorName= project+'_prophet_algo_1' + target_suffix + suffix"
   ]
  },
  {
   "cell_type": "code",
   "execution_count": 29,
   "metadata": {},
   "outputs": [],
   "source": [
    "# Build Prophet:\n",
    "prophet_create_predictor_response=forecast.create_predictor(\n",
    "      PredictorName=prophet_predictorName, \n",
    "      AlgorithmArn=prophet_algorithmArn,\n",
    "      ForecastHorizon=forecastHorizon,\n",
    "      PerformAutoML= False,\n",
    "      PerformHPO=False,\n",
    "      EvaluationParameters= {\"NumberOfBacktestWindows\": NumberOfBacktestWindows, \n",
    "                             \"BackTestWindowOffset\": BackTestWindowOffset}, \n",
    "      InputDataConfig= {\"DatasetGroupArn\": target_datasetGroupArn, \n",
    "                        \"SupplementaryFeatures\": [ \n",
    "                         { \n",
    "                            \"Name\": \"holiday\",\n",
    "                            \"Value\": \"US\"\n",
    "                         }\n",
    "                      ]},\n",
    "      FeaturizationConfig= {\"ForecastFrequency\": ForecastFrequency, \n",
    "                            \"ForecastDimensions\":\n",
    "                            [\"store\"],\n",
    "                            \"Featurizations\": \n",
    "                            [\n",
    "                              {\"AttributeName\": \"target_value\", \n",
    "                               \"FeaturizationPipeline\": \n",
    "                                [\n",
    "                                  {\"FeaturizationMethodName\": \"filling\", \n",
    "                                   \"FeaturizationMethodParameters\": \n",
    "                                    {\"frontfill\": \"none\", \n",
    "                                     \"middlefill\": \"zero\", \n",
    "                                     \"backfill\": \"zero\"}\n",
    "                                  }\n",
    "                                ]\n",
    "                              }\n",
    "                            ]\n",
    "                           }\n",
    "                                                 )\n",
    "\n",
    "\n"
   ]
  },
  {
   "cell_type": "markdown",
   "metadata": {},
   "source": [
    "### DeepAR+"
   ]
  },
  {
   "cell_type": "code",
   "execution_count": 30,
   "metadata": {},
   "outputs": [],
   "source": [
    "# DeepAR+ Specifics\n",
    "deeparp_predictorName= project+'_deeparp_algo_1' + suffix"
   ]
  },
  {
   "cell_type": "code",
   "execution_count": 31,
   "metadata": {},
   "outputs": [],
   "source": [
    "# Build DeepAR+:\n",
    "deeparp_create_predictor_response=forecast.create_predictor(\n",
    "      PredictorName=deeparp_predictorName, \n",
    "      AlgorithmArn=deepAR_Plus_algorithmArn,\n",
    "      ForecastHorizon=forecastHorizon,\n",
    "      PerformAutoML= False,\n",
    "      PerformHPO=False,\n",
    "      EvaluationParameters= {\"NumberOfBacktestWindows\": NumberOfBacktestWindows, \n",
    "                             \"BackTestWindowOffset\": BackTestWindowOffset}, \n",
    "      InputDataConfig= {\"DatasetGroupArn\": target_datasetGroupArn, \"SupplementaryFeatures\": [ \n",
    "                         { \n",
    "                            \"Name\": \"holiday\",\n",
    "                            \"Value\": \"US\"\n",
    "                         }\n",
    "                      ]},\n",
    "      FeaturizationConfig= {\"ForecastFrequency\": ForecastFrequency, \n",
    "                            \"ForecastDimensions\":\n",
    "                            [\"store\"],\n",
    "                            \n",
    "                            \"Featurizations\": \n",
    "                            [\n",
    "                              {\"AttributeName\": \"target_value\", \n",
    "                               \"FeaturizationPipeline\": \n",
    "                                [\n",
    "                                  {\"FeaturizationMethodName\": \"filling\", \n",
    "                                   \"FeaturizationMethodParameters\": \n",
    "                                    {\"frontfill\": \"none\", \n",
    "                                     \"middlefill\": \"zero\", \n",
    "                                     \"backfill\": \"zero\"}\n",
    "                                  }\n",
    "                                ]\n",
    "                              }\n",
    "                            ]\n",
    "                           }\n",
    "                                                 )\n",
    "\n",
    "\n",
    "\n"
   ]
  },
  {
   "cell_type": "markdown",
   "metadata": {},
   "source": [
    "## Check if the predictors are active\n"
   ]
  },
  {
   "cell_type": "code",
   "execution_count": 32,
   "metadata": {},
   "outputs": [],
   "source": [
    "# forecast.list_predictors(Filters=[\n",
    "#     {\"Condition\": \"IS\",\n",
    "#      \"Key\": \"DatasetGroupArn\", \n",
    "#      \"Value\": datasetGroupArn}\n",
    "# ])"
   ]
  },
  {
   "cell_type": "code",
   "execution_count": 33,
   "metadata": {},
   "outputs": [],
   "source": [
    "#prophet_predictor_arn = 'arn:aws:forecast:us-east-2:057716757052:predictor/WalmartKaggleGonsoo_prophet_algo_174655'\n",
    "target_prophet_predictorArn = prophet_create_predictor_response[\"PredictorArn\"]"
   ]
  },
  {
   "cell_type": "code",
   "execution_count": 34,
   "metadata": {},
   "outputs": [],
   "source": [
    "target_deepar_predictorArn = deeparp_create_predictor_response[\"PredictorArn\"]"
   ]
  },
  {
   "cell_type": "code",
   "execution_count": 35,
   "metadata": {},
   "outputs": [
    {
     "name": "stdout",
     "output_type": "stream",
     "text": [
      "Prophet:  CREATE_IN_PROGRESS\n",
      "DeepARP:  CREATE_IN_PROGRESS\n",
      "Prophet:  CREATE_IN_PROGRESS\n",
      "DeepARP:  CREATE_IN_PROGRESS\n",
      "Prophet:  CREATE_IN_PROGRESS\n",
      "DeepARP:  CREATE_IN_PROGRESS\n",
      "Prophet:  CREATE_IN_PROGRESS\n",
      "DeepARP:  CREATE_IN_PROGRESS\n",
      "Prophet:  CREATE_IN_PROGRESS\n",
      "DeepARP:  CREATE_IN_PROGRESS\n",
      "Prophet:  CREATE_IN_PROGRESS\n",
      "DeepARP:  CREATE_IN_PROGRESS\n",
      "Prophet:  CREATE_IN_PROGRESS\n",
      "DeepARP:  CREATE_IN_PROGRESS\n",
      "Prophet:  CREATE_IN_PROGRESS\n",
      "DeepARP:  CREATE_IN_PROGRESS\n",
      "Prophet:  CREATE_IN_PROGRESS\n",
      "DeepARP:  CREATE_IN_PROGRESS\n",
      "Prophet:  CREATE_IN_PROGRESS\n",
      "DeepARP:  CREATE_IN_PROGRESS\n",
      "Prophet:  CREATE_IN_PROGRESS\n",
      "DeepARP:  CREATE_IN_PROGRESS\n",
      "Prophet:  CREATE_IN_PROGRESS\n",
      "DeepARP:  CREATE_IN_PROGRESS\n",
      "Prophet:  CREATE_IN_PROGRESS\n",
      "DeepARP:  CREATE_IN_PROGRESS\n",
      "Prophet:  CREATE_IN_PROGRESS\n",
      "DeepARP:  CREATE_IN_PROGRESS\n",
      "Prophet:  CREATE_IN_PROGRESS\n",
      "DeepARP:  CREATE_IN_PROGRESS\n",
      "Prophet:  CREATE_IN_PROGRESS\n",
      "DeepARP:  CREATE_IN_PROGRESS\n",
      "Prophet:  CREATE_IN_PROGRESS\n",
      "DeepARP:  CREATE_IN_PROGRESS\n",
      "Prophet:  CREATE_IN_PROGRESS\n",
      "DeepARP:  CREATE_IN_PROGRESS\n",
      "Prophet:  CREATE_IN_PROGRESS\n",
      "DeepARP:  CREATE_IN_PROGRESS\n",
      "Prophet:  CREATE_IN_PROGRESS\n",
      "DeepARP:  CREATE_IN_PROGRESS\n",
      "Prophet:  CREATE_IN_PROGRESS\n",
      "DeepARP:  CREATE_IN_PROGRESS\n",
      "Prophet:  CREATE_IN_PROGRESS\n",
      "DeepARP:  CREATE_IN_PROGRESS\n",
      "Prophet:  CREATE_IN_PROGRESS\n",
      "DeepARP:  CREATE_IN_PROGRESS\n",
      "Prophet:  CREATE_IN_PROGRESS\n",
      "DeepARP:  CREATE_IN_PROGRESS\n",
      "Prophet:  CREATE_IN_PROGRESS\n",
      "DeepARP:  CREATE_IN_PROGRESS\n",
      "Prophet:  CREATE_IN_PROGRESS\n",
      "DeepARP:  CREATE_IN_PROGRESS\n",
      "Prophet:  ACTIVE\n",
      "DeepARP:  CREATE_IN_PROGRESS\n",
      "Prophet:  ACTIVE\n",
      "DeepARP:  CREATE_IN_PROGRESS\n",
      "Prophet:  ACTIVE\n",
      "DeepARP:  CREATE_IN_PROGRESS\n",
      "Prophet:  ACTIVE\n",
      "DeepARP:  CREATE_IN_PROGRESS\n",
      "Prophet:  ACTIVE\n",
      "DeepARP:  CREATE_IN_PROGRESS\n",
      "Prophet:  ACTIVE\n",
      "DeepARP:  CREATE_IN_PROGRESS\n",
      "Prophet:  ACTIVE\n",
      "DeepARP:  CREATE_IN_PROGRESS\n",
      "Prophet:  ACTIVE\n",
      "DeepARP:  CREATE_IN_PROGRESS\n",
      "Prophet:  ACTIVE\n",
      "DeepARP:  CREATE_IN_PROGRESS\n",
      "Prophet:  ACTIVE\n",
      "DeepARP:  ACTIVE\n",
      "CPU times: user 271 ms, sys: 15.5 ms, total: 287 ms\n",
      "Wall time: 35min 5s\n"
     ]
    }
   ],
   "source": [
    "%%time\n",
    "# Check the Prophet status\n",
    "\n",
    "while True:\n",
    "    createProphetPredictorStatus = forecast.describe_predictor(PredictorArn= target_prophet_predictorArn)['Status']\n",
    "    createDeeparpPredictorStatus = forecast.describe_predictor(PredictorArn= target_deepar_predictorArn)['Status']    \n",
    "    print(\"Prophet: \", createProphetPredictorStatus)\n",
    "    print(\"DeepARP: \", createDeeparpPredictorStatus)          \n",
    "    if createProphetPredictorStatus != 'ACTIVE' and createProphetPredictorStatus != 'CREATE_FAILED':\n",
    "        sleep(60)\n",
    "    elif createDeeparpPredictorStatus != 'ACTIVE' and createDeeparpPredictorStatus != 'CREATE_FAILED':\n",
    "        sleep(60)\n",
    "    else:\n",
    "        break"
   ]
  },
  {
   "cell_type": "markdown",
   "metadata": {},
   "source": [
    "## Predictor evaluation"
   ]
  },
  {
   "cell_type": "markdown",
   "metadata": {},
   "source": [
    "#### Prophet"
   ]
  },
  {
   "cell_type": "code",
   "execution_count": 36,
   "metadata": {},
   "outputs": [
    {
     "name": "stdout",
     "output_type": "stream",
     "text": [
      "{'PredictorEvaluationResults': [{'AlgorithmArn': 'arn:aws:forecast:::algorithm/Prophet',\n",
      "                                 'TestWindows': [{'EvaluationType': 'SUMMARY',\n",
      "                                                  'Metrics': {'RMSE': 8.443304726264216,\n",
      "                                                              'WeightedQuantileLosses': [{'LossValue': 0.05079870636900548,\n",
      "                                                                                          'Quantile': 0.9},\n",
      "                                                                                         {'LossValue': 0.10882895406442908,\n",
      "                                                                                          'Quantile': 0.5},\n",
      "                                                                                         {'LossValue': 0.04667087421210328,\n",
      "                                                                                          'Quantile': 0.1}]}},\n",
      "                                                 {'EvaluationType': 'COMPUTED',\n",
      "                                                  'ItemCount': 500,\n",
      "                                                  'Metrics': {'RMSE': 8.054496106801034,\n",
      "                                                              'WeightedQuantileLosses': [{'LossValue': 0.048794440721809086,\n",
      "                                                                                          'Quantile': 0.9},\n",
      "                                                                                         {'LossValue': 0.10751504156038479,\n",
      "                                                                                          'Quantile': 0.5},\n",
      "                                                                                         {'LossValue': 0.046734681944514064,\n",
      "                                                                                          'Quantile': 0.1}]},\n",
      "                                                  'TestWindowEnd': datetime.datetime(2017, 10, 31, 0, 0, tzinfo=tzlocal()),\n",
      "                                                  'TestWindowStart': datetime.datetime(2017, 9, 30, 0, 0, tzinfo=tzlocal())},\n",
      "                                                 {'EvaluationType': 'COMPUTED',\n",
      "                                                  'ItemCount': 500,\n",
      "                                                  'Metrics': {'RMSE': 8.8321133457274,\n",
      "                                                              'WeightedQuantileLosses': [{'LossValue': 0.05280297201620182,\n",
      "                                                                                          'Quantile': 0.9},\n",
      "                                                                                         {'LossValue': 0.11014286656847329,\n",
      "                                                                                          'Quantile': 0.5},\n",
      "                                                                                         {'LossValue': 0.046607066479692476,\n",
      "                                                                                          'Quantile': 0.1}]},\n",
      "                                                  'TestWindowEnd': datetime.datetime(2017, 12, 1, 0, 0, tzinfo=tzlocal()),\n",
      "                                                  'TestWindowStart': datetime.datetime(2017, 10, 31, 0, 0, tzinfo=tzlocal())}]}],\n",
      " 'ResponseMetadata': {'HTTPHeaders': {'connection': 'keep-alive',\n",
      "                                      'content-length': '973',\n",
      "                                      'content-type': 'application/x-amz-json-1.1',\n",
      "                                      'date': 'Sat, 28 Mar 2020 07:50:36 GMT',\n",
      "                                      'x-amzn-requestid': 'c49b07b5-c2b5-4248-b521-cee099a2bb39'},\n",
      "                      'HTTPStatusCode': 200,\n",
      "                      'RequestId': 'c49b07b5-c2b5-4248-b521-cee099a2bb39',\n",
      "                      'RetryAttempts': 0}}\n"
     ]
    }
   ],
   "source": [
    "# Prophet Metrics\n",
    "# prophet_arn = prophet_create_predictor_response['PredictorArn']\n",
    "prophet_metrics = forecast.get_accuracy_metrics(PredictorArn=target_prophet_predictorArn)\n",
    "pp = pprint.PrettyPrinter()\n",
    "pp.pprint(prophet_metrics)"
   ]
  },
  {
   "cell_type": "code",
   "execution_count": 37,
   "metadata": {},
   "outputs": [],
   "source": [
    "# deepar_predictorArn = deeparp_create_predictor_response[\"PredictorArn\"]\n",
    "# forecast.describe_predictor(PredictorArn= deepar_predictorArn)"
   ]
  },
  {
   "cell_type": "markdown",
   "metadata": {},
   "source": [
    "#### DeepAR+\n",
    "\n",
    "Same as Prophet and ARIMA, now you should look at the metrics from it."
   ]
  },
  {
   "cell_type": "code",
   "execution_count": 38,
   "metadata": {},
   "outputs": [
    {
     "name": "stdout",
     "output_type": "stream",
     "text": [
      "{'PredictorEvaluationResults': [{'AlgorithmArn': 'arn:aws:forecast:::algorithm/Deep_AR_Plus',\n",
      "                                 'TestWindows': [{'EvaluationType': 'SUMMARY',\n",
      "                                                  'Metrics': {'RMSE': 10.002934740003255,\n",
      "                                                              'WeightedQuantileLosses': [{'LossValue': 0.06869896346027182,\n",
      "                                                                                          'Quantile': 0.9},\n",
      "                                                                                         {'LossValue': 0.12819415419100966,\n",
      "                                                                                          'Quantile': 0.5},\n",
      "                                                                                         {'LossValue': 0.05075241882577648,\n",
      "                                                                                          'Quantile': 0.1}]}},\n",
      "                                                 {'EvaluationType': 'COMPUTED',\n",
      "                                                  'ItemCount': 500,\n",
      "                                                  'Metrics': {'RMSE': 8.419805980436653,\n",
      "                                                              'WeightedQuantileLosses': [{'LossValue': 0.0515283562119716,\n",
      "                                                                                          'Quantile': 0.9},\n",
      "                                                                                         {'LossValue': 0.11271889694232229,\n",
      "                                                                                          'Quantile': 0.5},\n",
      "                                                                                         {'LossValue': 0.04733749311552534,\n",
      "                                                                                          'Quantile': 0.1}]},\n",
      "                                                  'TestWindowEnd': datetime.datetime(2017, 10, 31, 0, 0, tzinfo=tzlocal()),\n",
      "                                                  'TestWindowStart': datetime.datetime(2017, 9, 30, 0, 0, tzinfo=tzlocal())},\n",
      "                                                 {'EvaluationType': 'COMPUTED',\n",
      "                                                  'ItemCount': 500,\n",
      "                                                  'Metrics': {'RMSE': 11.586063499569853,\n",
      "                                                              'WeightedQuantileLosses': [{'LossValue': 0.08586957070857211,\n",
      "                                                                                          'Quantile': 0.9},\n",
      "                                                                                         {'LossValue': 0.14366941143969703,\n",
      "                                                                                          'Quantile': 0.5},\n",
      "                                                                                         {'LossValue': 0.05416734453602759,\n",
      "                                                                                          'Quantile': 0.1}]},\n",
      "                                                  'TestWindowEnd': datetime.datetime(2017, 12, 1, 0, 0, tzinfo=tzlocal()),\n",
      "                                                  'TestWindowStart': datetime.datetime(2017, 10, 31, 0, 0, tzinfo=tzlocal())}]}],\n",
      " 'ResponseMetadata': {'HTTPHeaders': {'connection': 'keep-alive',\n",
      "                                      'content-length': '978',\n",
      "                                      'content-type': 'application/x-amz-json-1.1',\n",
      "                                      'date': 'Sat, 28 Mar 2020 07:50:35 GMT',\n",
      "                                      'x-amzn-requestid': '34050b96-5db2-4f11-b8df-5504a8b52cca'},\n",
      "                      'HTTPStatusCode': 200,\n",
      "                      'RequestId': '34050b96-5db2-4f11-b8df-5504a8b52cca',\n",
      "                      'RetryAttempts': 0}}\n"
     ]
    }
   ],
   "source": [
    "# DeepAR+ Metrics\n",
    "# deepar_predictor_arn = deeparp_create_predictor_response['PredictorArn']\n",
    "deeparp_metrics = forecast.get_accuracy_metrics(PredictorArn=target_deepar_predictorArn)\n",
    "pp = pprint.PrettyPrinter()\n",
    "pp.pprint(deeparp_metrics)"
   ]
  },
  {
   "cell_type": "code",
   "execution_count": 40,
   "metadata": {},
   "outputs": [
    {
     "name": "stdout",
     "output_type": "stream",
     "text": [
      "Stored 'target_prophet_predictorArn' (str)\n",
      "Stored 'target_deepar_predictorArn' (str)\n"
     ]
    }
   ],
   "source": [
    "%store target_prophet_predictorArn\n",
    "%store target_deepar_predictorArn"
   ]
  },
  {
   "cell_type": "code",
   "execution_count": null,
   "metadata": {},
   "outputs": [],
   "source": []
  },
  {
   "cell_type": "code",
   "execution_count": null,
   "metadata": {},
   "outputs": [],
   "source": []
  }
 ],
 "metadata": {
  "kernelspec": {
   "display_name": "conda_python3",
   "language": "python",
   "name": "conda_python3"
  },
  "language_info": {
   "codemirror_mode": {
    "name": "ipython",
    "version": 3
   },
   "file_extension": ".py",
   "mimetype": "text/x-python",
   "name": "python",
   "nbconvert_exporter": "python",
   "pygments_lexer": "ipython3",
   "version": "3.6.5"
  }
 },
 "nbformat": 4,
 "nbformat_minor": 4
}
