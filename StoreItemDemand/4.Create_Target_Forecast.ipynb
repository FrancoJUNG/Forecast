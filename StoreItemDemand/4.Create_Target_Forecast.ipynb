{
 "cells": [
  {
   "cell_type": "markdown",
   "metadata": {},
   "source": [
    "# Create a Target Forecast\n",
    "\n",
    "* **About 50 mins may be elapsed**"
   ]
  },
  {
   "cell_type": "code",
   "execution_count": 1,
   "metadata": {},
   "outputs": [],
   "source": [
    "import boto3\n",
    "from time import sleep\n",
    "import pandas as pd\n",
    "import json\n",
    "import time\n",
    "import pprint\n",
    "import numpy as np"
   ]
  },
  {
   "cell_type": "code",
   "execution_count": 2,
   "metadata": {},
   "outputs": [],
   "source": [
    "# Recover variables stored by other notebooks\n",
    "%store -r"
   ]
  },
  {
   "cell_type": "code",
   "execution_count": 3,
   "metadata": {},
   "outputs": [],
   "source": [
    "session = boto3.Session(region_name=region)\n",
    "forecast = session.client(service_name='forecast')"
   ]
  },
  {
   "cell_type": "markdown",
   "metadata": {},
   "source": [
    "## Create Prophet and DeepAR+ Forecast"
   ]
  },
  {
   "cell_type": "code",
   "execution_count": 4,
   "metadata": {},
   "outputs": [],
   "source": [
    "# Prophet\n",
    "prophet_forecastName = project+'_prophet_algo_forecast' + target_suffix + suffix\n",
    "prophet_create_forecast_response=forecast.create_forecast(\n",
    "    ForecastName=prophet_forecastName,\n",
    "    PredictorArn=target_prophet_predictorArn)\n",
    "target_prophet_forecast_arn = prophet_create_forecast_response['ForecastArn']"
   ]
  },
  {
   "cell_type": "code",
   "execution_count": 5,
   "metadata": {},
   "outputs": [
    {
     "data": {
      "text/plain": [
       "{'ForecastArn': 'arn:aws:forecast:us-east-2:057716757052:forecast/StoreItemDemand_prophet_algo_forecast_target30517',\n",
       " 'ForecastName': 'StoreItemDemand_prophet_algo_forecast_target30517',\n",
       " 'ForecastTypes': ['0.1', '0.5', '0.9'],\n",
       " 'PredictorArn': 'arn:aws:forecast:us-east-2:057716757052:predictor/StoreItemDemand_prophet_algo_1_target30517',\n",
       " 'DatasetGroupArn': 'arn:aws:forecast:us-east-2:057716757052:dataset-group/StoreItemDemandDSG30517',\n",
       " 'Status': 'CREATE_PENDING',\n",
       " 'CreationTime': datetime.datetime(2020, 4, 4, 10, 45, 34, 228000, tzinfo=tzlocal()),\n",
       " 'LastModificationTime': datetime.datetime(2020, 4, 4, 10, 45, 34, 228000, tzinfo=tzlocal()),\n",
       " 'ResponseMetadata': {'RequestId': 'c0949579-860b-40bd-86d9-6b8be86f5d24',\n",
       "  'HTTPStatusCode': 200,\n",
       "  'HTTPHeaders': {'content-type': 'application/x-amz-json-1.1',\n",
       "   'date': 'Sat, 04 Apr 2020 10:45:35 GMT',\n",
       "   'x-amzn-requestid': 'c0949579-860b-40bd-86d9-6b8be86f5d24',\n",
       "   'content-length': '525',\n",
       "   'connection': 'keep-alive'},\n",
       "  'RetryAttempts': 0}}"
      ]
     },
     "execution_count": 5,
     "metadata": {},
     "output_type": "execute_result"
    }
   ],
   "source": [
    "forecast.describe_forecast(ForecastArn = target_prophet_forecast_arn)"
   ]
  },
  {
   "cell_type": "code",
   "execution_count": 6,
   "metadata": {},
   "outputs": [],
   "source": [
    "# DeepAR+\n",
    "deeparp_forecastName = project+'_deeparp_algo_forecast' + target_suffix + suffix\n",
    "deeparp_create_forecast_response=forecast.create_forecast(\n",
    "    ForecastName=deeparp_forecastName,\n",
    "    PredictorArn=target_deepar_predictorArn)\n",
    "target_deeparp_forecast_arn = deeparp_create_forecast_response['ForecastArn']"
   ]
  },
  {
   "cell_type": "code",
   "execution_count": 7,
   "metadata": {},
   "outputs": [
    {
     "data": {
      "text/plain": [
       "{'ForecastArn': 'arn:aws:forecast:us-east-2:057716757052:forecast/StoreItemDemand_deeparp_algo_forecast_target30517',\n",
       " 'ForecastName': 'StoreItemDemand_deeparp_algo_forecast_target30517',\n",
       " 'ForecastTypes': ['0.1', '0.5', '0.9'],\n",
       " 'PredictorArn': 'arn:aws:forecast:us-east-2:057716757052:predictor/StoreItemDemand_deeparp_algo_130517',\n",
       " 'DatasetGroupArn': 'arn:aws:forecast:us-east-2:057716757052:dataset-group/StoreItemDemandDSG30517',\n",
       " 'Status': 'CREATE_PENDING',\n",
       " 'CreationTime': datetime.datetime(2020, 4, 4, 10, 45, 36, 585000, tzinfo=tzlocal()),\n",
       " 'LastModificationTime': datetime.datetime(2020, 4, 4, 10, 45, 36, 585000, tzinfo=tzlocal()),\n",
       " 'ResponseMetadata': {'RequestId': 'fbf53f23-0972-4b31-bd23-8dde51a028e3',\n",
       "  'HTTPStatusCode': 200,\n",
       "  'HTTPHeaders': {'content-type': 'application/x-amz-json-1.1',\n",
       "   'date': 'Sat, 04 Apr 2020 10:45:37 GMT',\n",
       "   'x-amzn-requestid': 'fbf53f23-0972-4b31-bd23-8dde51a028e3',\n",
       "   'content-length': '518',\n",
       "   'connection': 'keep-alive'},\n",
       "  'RetryAttempts': 0}}"
      ]
     },
     "execution_count": 7,
     "metadata": {},
     "output_type": "execute_result"
    }
   ],
   "source": [
    "forecast.describe_forecast(ForecastArn = target_deeparp_forecast_arn)"
   ]
  },
  {
   "cell_type": "code",
   "execution_count": 12,
   "metadata": {},
   "outputs": [
    {
     "name": "stdout",
     "output_type": "stream",
     "text": [
      "Prophet:  ACTIVE\n",
      "DeepARP:  ACTIVE\n",
      "CPU times: user 13.7 ms, sys: 366 µs, total: 14.1 ms\n",
      "Wall time: 114 ms\n"
     ]
    }
   ],
   "source": [
    "%%time\n",
    "# Check the Prophet status\n",
    "\n",
    "while True:\n",
    "    createProphetStatus = forecast.describe_forecast(ForecastArn= target_prophet_forecast_arn)['Status']\n",
    "    createDeeparpStatus = forecast.describe_forecast(ForecastArn= target_deeparp_forecast_arn)['Status']    \n",
    "    print(\"Prophet: \", createProphetStatus)\n",
    "    print(\"DeepARP: \", createProphetStatus)          \n",
    "    if createProphetStatus != 'ACTIVE' and createProphetStatus != 'CREATE_FAILED':\n",
    "        sleep(60)\n",
    "    elif createDeeparpStatus != 'ACTIVE' and createDeeparpStatus != 'CREATE_FAILED':\n",
    "        sleep(60)\n",
    "    else:\n",
    "        break"
   ]
  },
  {
   "cell_type": "markdown",
   "metadata": {},
   "source": [
    "## Upload forecast results to S3"
   ]
  },
  {
   "cell_type": "code",
   "execution_count": 13,
   "metadata": {},
   "outputs": [
    {
     "ename": "ResourceAlreadyExistsException",
     "evalue": "An error occurred (ResourceAlreadyExistsException) when calling the CreateForecastExportJob operation: A forecast export already exists with the arn: arn:aws:forecast:us-east-2:057716757052:forecast-export-job/StoreItemDemand_prophet_algo_forecast_target30517/ProphetExport1_target30517",
     "output_type": "error",
     "traceback": [
      "\u001b[0;31m---------------------------------------------------------------------------\u001b[0m",
      "\u001b[0;31mResourceAlreadyExistsException\u001b[0m            Traceback (most recent call last)",
      "\u001b[0;32m<ipython-input-13-a45fc1f0bbdb>\u001b[0m in \u001b[0;36m<module>\u001b[0;34m()\u001b[0m\n\u001b[1;32m      7\u001b[0m         \"S3Config\" : {\n\u001b[1;32m      8\u001b[0m             \u001b[0;34m\"Path\"\u001b[0m\u001b[0;34m:\u001b[0m \u001b[0mtarget_prophet_path\u001b[0m\u001b[0;34m,\u001b[0m\u001b[0;34m\u001b[0m\u001b[0m\n\u001b[0;32m----> 9\u001b[0;31m             \u001b[0;34m\"RoleArn\"\u001b[0m\u001b[0;34m:\u001b[0m \u001b[0mrole_arn\u001b[0m\u001b[0;34m\u001b[0m\u001b[0m\n\u001b[0m\u001b[1;32m     10\u001b[0m         }\n\u001b[1;32m     11\u001b[0m     })\n",
      "\u001b[0;32m~/anaconda3/envs/python3/lib/python3.6/site-packages/botocore/client.py\u001b[0m in \u001b[0;36m_api_call\u001b[0;34m(self, *args, **kwargs)\u001b[0m\n\u001b[1;32m    314\u001b[0m                     \"%s() only accepts keyword arguments.\" % py_operation_name)\n\u001b[1;32m    315\u001b[0m             \u001b[0;31m# The \"self\" in this scope is referring to the BaseClient.\u001b[0m\u001b[0;34m\u001b[0m\u001b[0;34m\u001b[0m\u001b[0m\n\u001b[0;32m--> 316\u001b[0;31m             \u001b[0;32mreturn\u001b[0m \u001b[0mself\u001b[0m\u001b[0;34m.\u001b[0m\u001b[0m_make_api_call\u001b[0m\u001b[0;34m(\u001b[0m\u001b[0moperation_name\u001b[0m\u001b[0;34m,\u001b[0m \u001b[0mkwargs\u001b[0m\u001b[0;34m)\u001b[0m\u001b[0;34m\u001b[0m\u001b[0m\n\u001b[0m\u001b[1;32m    317\u001b[0m \u001b[0;34m\u001b[0m\u001b[0m\n\u001b[1;32m    318\u001b[0m         \u001b[0m_api_call\u001b[0m\u001b[0;34m.\u001b[0m\u001b[0m__name__\u001b[0m \u001b[0;34m=\u001b[0m \u001b[0mstr\u001b[0m\u001b[0;34m(\u001b[0m\u001b[0mpy_operation_name\u001b[0m\u001b[0;34m)\u001b[0m\u001b[0;34m\u001b[0m\u001b[0m\n",
      "\u001b[0;32m~/anaconda3/envs/python3/lib/python3.6/site-packages/botocore/client.py\u001b[0m in \u001b[0;36m_make_api_call\u001b[0;34m(self, operation_name, api_params)\u001b[0m\n\u001b[1;32m    624\u001b[0m             \u001b[0merror_code\u001b[0m \u001b[0;34m=\u001b[0m \u001b[0mparsed_response\u001b[0m\u001b[0;34m.\u001b[0m\u001b[0mget\u001b[0m\u001b[0;34m(\u001b[0m\u001b[0;34m\"Error\"\u001b[0m\u001b[0;34m,\u001b[0m \u001b[0;34m{\u001b[0m\u001b[0;34m}\u001b[0m\u001b[0;34m)\u001b[0m\u001b[0;34m.\u001b[0m\u001b[0mget\u001b[0m\u001b[0;34m(\u001b[0m\u001b[0;34m\"Code\"\u001b[0m\u001b[0;34m)\u001b[0m\u001b[0;34m\u001b[0m\u001b[0m\n\u001b[1;32m    625\u001b[0m             \u001b[0merror_class\u001b[0m \u001b[0;34m=\u001b[0m \u001b[0mself\u001b[0m\u001b[0;34m.\u001b[0m\u001b[0mexceptions\u001b[0m\u001b[0;34m.\u001b[0m\u001b[0mfrom_code\u001b[0m\u001b[0;34m(\u001b[0m\u001b[0merror_code\u001b[0m\u001b[0;34m)\u001b[0m\u001b[0;34m\u001b[0m\u001b[0m\n\u001b[0;32m--> 626\u001b[0;31m             \u001b[0;32mraise\u001b[0m \u001b[0merror_class\u001b[0m\u001b[0;34m(\u001b[0m\u001b[0mparsed_response\u001b[0m\u001b[0;34m,\u001b[0m \u001b[0moperation_name\u001b[0m\u001b[0;34m)\u001b[0m\u001b[0;34m\u001b[0m\u001b[0m\n\u001b[0m\u001b[1;32m    627\u001b[0m         \u001b[0;32melse\u001b[0m\u001b[0;34m:\u001b[0m\u001b[0;34m\u001b[0m\u001b[0m\n\u001b[1;32m    628\u001b[0m             \u001b[0;32mreturn\u001b[0m \u001b[0mparsed_response\u001b[0m\u001b[0;34m\u001b[0m\u001b[0m\n",
      "\u001b[0;31mResourceAlreadyExistsException\u001b[0m: An error occurred (ResourceAlreadyExistsException) when calling the CreateForecastExportJob operation: A forecast export already exists with the arn: arn:aws:forecast:us-east-2:057716757052:forecast-export-job/StoreItemDemand_prophet_algo_forecast_target30517/ProphetExport1_target30517"
     ]
    }
   ],
   "source": [
    "target_prophet_path = \"s3://\" + bucket_name + \"/\" + bucket_folder + \"/prophet_\" + target_suffix + suffix + \"/\" \n",
    "target_prophet_job_name = \"ProphetExport1\" + target_suffix + suffix\n",
    "create_forecast_export_job_prophet_response = forecast.create_forecast_export_job(\n",
    "    ForecastExportJobName = target_prophet_job_name,\n",
    "    ForecastArn = target_prophet_forecast_arn,\n",
    "    Destination={\n",
    "        \"S3Config\" : {\n",
    "            \"Path\": target_prophet_path,\n",
    "            \"RoleArn\": role_arn\n",
    "        }\n",
    "    })\n"
   ]
  },
  {
   "cell_type": "code",
   "execution_count": 14,
   "metadata": {},
   "outputs": [
    {
     "data": {
      "text/plain": [
       "{'ForecastExportJobArn': 'arn:aws:forecast:us-east-2:057716757052:forecast-export-job/StoreItemDemand_prophet_algo_forecast_target30517/ProphetExport1_target30517',\n",
       " 'ForecastExportJobName': 'ProphetExport1_target30517',\n",
       " 'ForecastArn': 'arn:aws:forecast:us-east-2:057716757052:forecast/StoreItemDemand_prophet_algo_forecast_target30517',\n",
       " 'Destination': {'S3Config': {'Path': 's3://sagemaker-us-east-2-057716757052/StoreItemDemand/prophet__target30517',\n",
       "   'RoleArn': 'arn:aws:iam::057716757052:role/ForecastRolePOC30517'}},\n",
       " 'Status': 'ACTIVE',\n",
       " 'CreationTime': datetime.datetime(2020, 4, 4, 11, 19, 44, 83000, tzinfo=tzlocal()),\n",
       " 'LastModificationTime': datetime.datetime(2020, 4, 4, 11, 21, 31, 97000, tzinfo=tzlocal()),\n",
       " 'ResponseMetadata': {'RequestId': 'f3218234-4c6e-4022-843c-58c111af2319',\n",
       "  'HTTPStatusCode': 200,\n",
       "  'HTTPHeaders': {'content-type': 'application/x-amz-json-1.1',\n",
       "   'date': 'Sat, 04 Apr 2020 11:21:42 GMT',\n",
       "   'x-amzn-requestid': 'f3218234-4c6e-4022-843c-58c111af2319',\n",
       "   'content-length': '598',\n",
       "   'connection': 'keep-alive'},\n",
       "  'RetryAttempts': 0}}"
      ]
     },
     "execution_count": 14,
     "metadata": {},
     "output_type": "execute_result"
    }
   ],
   "source": [
    "TargetForecastProphetExportJobArn = create_forecast_export_job_prophet_response[\"ForecastExportJobArn\"]\n",
    "forecast.describe_forecast_export_job(ForecastExportJobArn = TargetForecastProphetExportJobArn)"
   ]
  },
  {
   "cell_type": "code",
   "execution_count": 18,
   "metadata": {},
   "outputs": [],
   "source": [
    "target_deeparp_path = \"s3://\" + bucket_name + \"/\" +  bucket_folder +  \"/deeparp_\" + target_suffix + suffix + \"/\" \n",
    "target_deeparp_job_name = \"DeepARPExport1\" + target_suffix + suffix\n",
    "create_forecast_export_job_deepar_response = forecast.create_forecast_export_job(\n",
    "    ForecastExportJobName = target_deeparp_job_name,\n",
    "    ForecastArn = target_deeparp_forecast_arn,\n",
    "    Destination={\n",
    "        \"S3Config\" : {\n",
    "            \"Path\": target_deeparp_path,\n",
    "            \"RoleArn\": role_arn\n",
    "        }\n",
    "    })"
   ]
  },
  {
   "cell_type": "code",
   "execution_count": 19,
   "metadata": {},
   "outputs": [
    {
     "data": {
      "text/plain": [
       "{'ForecastExportJobArn': 'arn:aws:forecast:us-east-2:057716757052:forecast-export-job/StoreItemDemand_deeparp_algo_forecast_target30517/DeepARPExport1_target30517',\n",
       " 'ForecastExportJobName': 'DeepARPExport1_target30517',\n",
       " 'ForecastArn': 'arn:aws:forecast:us-east-2:057716757052:forecast/StoreItemDemand_deeparp_algo_forecast_target30517',\n",
       " 'Destination': {'S3Config': {'Path': 's3://sagemaker-us-east-2-057716757052/StoreItemDemand/deeparp__target30517',\n",
       "   'RoleArn': 'arn:aws:iam::057716757052:role/ForecastRolePOC30517'}},\n",
       " 'Status': 'CREATE_PENDING',\n",
       " 'CreationTime': datetime.datetime(2020, 4, 4, 11, 22, 48, 321000, tzinfo=tzlocal()),\n",
       " 'LastModificationTime': datetime.datetime(2020, 4, 4, 11, 22, 48, 321000, tzinfo=tzlocal()),\n",
       " 'ResponseMetadata': {'RequestId': '0b33f309-72a5-48bb-a1fa-e9b730bf4499',\n",
       "  'HTTPStatusCode': 200,\n",
       "  'HTTPHeaders': {'content-type': 'application/x-amz-json-1.1',\n",
       "   'date': 'Sat, 04 Apr 2020 11:22:49 GMT',\n",
       "   'x-amzn-requestid': '0b33f309-72a5-48bb-a1fa-e9b730bf4499',\n",
       "   'content-length': '606',\n",
       "   'connection': 'keep-alive'},\n",
       "  'RetryAttempts': 0}}"
      ]
     },
     "execution_count": 19,
     "metadata": {},
     "output_type": "execute_result"
    }
   ],
   "source": [
    "TargetForecastDeeparExportJobArn = create_forecast_export_job_deepar_response[\"ForecastExportJobArn\"]\n",
    "forecast.describe_forecast_export_job(ForecastExportJobArn = TargetForecastDeeparExportJobArn)"
   ]
  },
  {
   "cell_type": "markdown",
   "metadata": {},
   "source": [
    "This exporting process is another one of those items that will take several minutes to complete. Just poll for progress in the console. From the earlier page where you saw the status turn `Active` for a Forecast, click it and you can see the progress of the export."
   ]
  },
  {
   "cell_type": "code",
   "execution_count": 23,
   "metadata": {},
   "outputs": [
    {
     "name": "stdout",
     "output_type": "stream",
     "text": [
      "Prophet:  ACTIVE\n",
      "DeepARP:  ACTIVE\n",
      "CPU times: user 4.73 ms, sys: 29 µs, total: 4.76 ms\n",
      "Wall time: 70.5 ms\n"
     ]
    }
   ],
   "source": [
    "%%time\n",
    "# Check the Prophet status\n",
    "\n",
    "while True:\n",
    "    createProphetStatus = forecast.describe_forecast_export_job(ForecastExportJobArn= TargetForecastProphetExportJobArn)['Status']\n",
    "    createDeeparpStatus = forecast.describe_forecast_export_job(ForecastExportJobArn= TargetForecastDeeparExportJobArn)['Status']    \n",
    "    print(\"Prophet: \", createProphetStatus)\n",
    "    print(\"DeepARP: \", createProphetStatus)          \n",
    "    if createProphetStatus != 'ACTIVE' and createProphetStatus != 'CREATE_FAILED':\n",
    "        sleep(60)\n",
    "    elif createDeeparpStatus != 'ACTIVE' and createDeeparpStatus != 'CREATE_FAILED':\n",
    "        sleep(60)\n",
    "    else:\n",
    "        break"
   ]
  },
  {
   "cell_type": "code",
   "execution_count": 24,
   "metadata": {},
   "outputs": [
    {
     "name": "stdout",
     "output_type": "stream",
     "text": [
      "Stored 'target_prophet_forecast_arn' (str)\n",
      "Stored 'target_deeparp_forecast_arn' (str)\n",
      "Stored 'TargetForecastProphetExportJobArn' (str)\n",
      "Stored 'TargetForecastDeeparExportJobArn' (str)\n"
     ]
    }
   ],
   "source": [
    "%store target_prophet_forecast_arn\n",
    "%store target_deeparp_forecast_arn\n",
    "%store TargetForecastProphetExportJobArn\n",
    "%store TargetForecastDeeparExportJobArn\n",
    "\n"
   ]
  },
  {
   "cell_type": "code",
   "execution_count": null,
   "metadata": {},
   "outputs": [],
   "source": []
  },
  {
   "cell_type": "code",
   "execution_count": null,
   "metadata": {},
   "outputs": [],
   "source": []
  },
  {
   "cell_type": "code",
   "execution_count": null,
   "metadata": {},
   "outputs": [],
   "source": []
  },
  {
   "cell_type": "code",
   "execution_count": null,
   "metadata": {},
   "outputs": [],
   "source": []
  }
 ],
 "metadata": {
  "kernelspec": {
   "display_name": "conda_python3",
   "language": "python",
   "name": "conda_python3"
  },
  "language_info": {
   "codemirror_mode": {
    "name": "ipython",
    "version": 3
   },
   "file_extension": ".py",
   "mimetype": "text/x-python",
   "name": "python",
   "nbconvert_exporter": "python",
   "pygments_lexer": "ipython3",
   "version": "3.6.5"
  }
 },
 "nbformat": 4,
 "nbformat_minor": 4
}
