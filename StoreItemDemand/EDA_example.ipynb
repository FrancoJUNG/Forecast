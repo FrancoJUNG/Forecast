{
 "cells": [
  {
   "cell_type": "markdown",
   "metadata": {},
   "source": [
    "# EDA Examples"
   ]
  },
  {
   "cell_type": "code",
   "execution_count": 1,
   "metadata": {},
   "outputs": [],
   "source": [
    "import pandas as pd\n",
    "import numpy as np\n",
    "import time\n",
    "import warnings\n",
    "import os"
   ]
  },
  {
   "cell_type": "code",
   "execution_count": 2,
   "metadata": {},
   "outputs": [],
   "source": [
    "data_dir = 'data'\n",
    "train_file_name = 'train.csv'"
   ]
  },
  {
   "cell_type": "code",
   "execution_count": 3,
   "metadata": {},
   "outputs": [
    {
     "data": {
      "text/html": [
       "<div>\n",
       "<style scoped>\n",
       "    .dataframe tbody tr th:only-of-type {\n",
       "        vertical-align: middle;\n",
       "    }\n",
       "\n",
       "    .dataframe tbody tr th {\n",
       "        vertical-align: top;\n",
       "    }\n",
       "\n",
       "    .dataframe thead th {\n",
       "        text-align: right;\n",
       "    }\n",
       "</style>\n",
       "<table border=\"1\" class=\"dataframe\">\n",
       "  <thead>\n",
       "    <tr style=\"text-align: right;\">\n",
       "      <th></th>\n",
       "      <th>date</th>\n",
       "      <th>store</th>\n",
       "      <th>item</th>\n",
       "      <th>sales</th>\n",
       "    </tr>\n",
       "  </thead>\n",
       "  <tbody>\n",
       "    <tr>\n",
       "      <th>0</th>\n",
       "      <td>2013-01-01</td>\n",
       "      <td>1</td>\n",
       "      <td>1</td>\n",
       "      <td>13</td>\n",
       "    </tr>\n",
       "    <tr>\n",
       "      <th>1</th>\n",
       "      <td>2013-01-02</td>\n",
       "      <td>1</td>\n",
       "      <td>1</td>\n",
       "      <td>11</td>\n",
       "    </tr>\n",
       "    <tr>\n",
       "      <th>2</th>\n",
       "      <td>2013-01-03</td>\n",
       "      <td>1</td>\n",
       "      <td>1</td>\n",
       "      <td>14</td>\n",
       "    </tr>\n",
       "    <tr>\n",
       "      <th>3</th>\n",
       "      <td>2013-01-04</td>\n",
       "      <td>1</td>\n",
       "      <td>1</td>\n",
       "      <td>13</td>\n",
       "    </tr>\n",
       "    <tr>\n",
       "      <th>4</th>\n",
       "      <td>2013-01-05</td>\n",
       "      <td>1</td>\n",
       "      <td>1</td>\n",
       "      <td>10</td>\n",
       "    </tr>\n",
       "  </tbody>\n",
       "</table>\n",
       "</div>"
      ],
      "text/plain": [
       "         date  store  item  sales\n",
       "0  2013-01-01      1     1     13\n",
       "1  2013-01-02      1     1     11\n",
       "2  2013-01-03      1     1     14\n",
       "3  2013-01-04      1     1     13\n",
       "4  2013-01-05      1     1     10"
      ]
     },
     "execution_count": 3,
     "metadata": {},
     "output_type": "execute_result"
    }
   ],
   "source": [
    "train_data = pd.read_csv(os.path.join(data_dir,train_file_name))\n",
    "train_data.head()"
   ]
  },
  {
   "cell_type": "code",
   "execution_count": 45,
   "metadata": {},
   "outputs": [
    {
     "name": "stdout",
     "output_type": "stream",
     "text": [
      "<class 'pandas.core.frame.DataFrame'>\n",
      "RangeIndex: 913000 entries, 0 to 912999\n",
      "Data columns (total 4 columns):\n",
      "date     913000 non-null object\n",
      "store    913000 non-null int64\n",
      "item     913000 non-null int64\n",
      "sales    913000 non-null int64\n",
      "dtypes: int64(3), object(1)\n",
      "memory usage: 27.9+ MB\n"
     ]
    }
   ],
   "source": [
    "train_data.info()"
   ]
  },
  {
   "cell_type": "markdown",
   "metadata": {},
   "source": [
    "## Filtering rows with double conditions"
   ]
  },
  {
   "cell_type": "code",
   "execution_count": 30,
   "metadata": {},
   "outputs": [
    {
     "name": "stdout",
     "output_type": "stream",
     "text": [
      "<class 'pandas.core.frame.DataFrame'>\n",
      "Int64Index: 36520 entries, 0 to 36519\n",
      "Data columns (total 4 columns):\n",
      "date     36520 non-null object\n",
      "store    36520 non-null int64\n",
      "item     36520 non-null int64\n",
      "sales    36520 non-null int64\n",
      "dtypes: int64(3), object(1)\n",
      "memory usage: 1.4+ MB\n",
      "None\n"
     ]
    },
    {
     "data": {
      "text/html": [
       "<div>\n",
       "<style scoped>\n",
       "    .dataframe tbody tr th:only-of-type {\n",
       "        vertical-align: middle;\n",
       "    }\n",
       "\n",
       "    .dataframe tbody tr th {\n",
       "        vertical-align: top;\n",
       "    }\n",
       "\n",
       "    .dataframe thead th {\n",
       "        text-align: right;\n",
       "    }\n",
       "</style>\n",
       "<table border=\"1\" class=\"dataframe\">\n",
       "  <thead>\n",
       "    <tr style=\"text-align: right;\">\n",
       "      <th></th>\n",
       "      <th>date</th>\n",
       "      <th>store</th>\n",
       "      <th>sales</th>\n",
       "    </tr>\n",
       "    <tr>\n",
       "      <th>item</th>\n",
       "      <th></th>\n",
       "      <th></th>\n",
       "      <th></th>\n",
       "    </tr>\n",
       "  </thead>\n",
       "  <tbody>\n",
       "    <tr>\n",
       "      <th>1</th>\n",
       "      <td>18260</td>\n",
       "      <td>18260</td>\n",
       "      <td>18260</td>\n",
       "    </tr>\n",
       "    <tr>\n",
       "      <th>2</th>\n",
       "      <td>18260</td>\n",
       "      <td>18260</td>\n",
       "      <td>18260</td>\n",
       "    </tr>\n",
       "  </tbody>\n",
       "</table>\n",
       "</div>"
      ],
      "text/plain": [
       "       date  store  sales\n",
       "item                     \n",
       "1     18260  18260  18260\n",
       "2     18260  18260  18260"
      ]
     },
     "execution_count": 30,
     "metadata": {},
     "output_type": "execute_result"
    }
   ],
   "source": [
    "filters = (train_data.item ==1) | (train_data.item ==2)\n",
    "train_data_1_2 = train_data[filters]\n",
    "train_data_1_2.head()\n",
    "print(train_data_1_2.info())\n",
    "train_data_1_2.groupby('item').count()\n",
    "\n",
    "# train_data_1 = train_data[train_data.item == 1]\n",
    "# train_data_1.info()"
   ]
  },
  {
   "cell_type": "markdown",
   "metadata": {},
   "source": [
    "## Groupby and Filter"
   ]
  },
  {
   "cell_type": "code",
   "execution_count": 39,
   "metadata": {},
   "outputs": [
    {
     "data": {
      "text/plain": [
       "date     36520\n",
       "store    36520\n",
       "item     36520\n",
       "sales    36520\n",
       "dtype: int64"
      ]
     },
     "execution_count": 39,
     "metadata": {},
     "output_type": "execute_result"
    }
   ],
   "source": [
    "# the number is the same as the total rows\n",
    "gp12 = train_data_1_2.groupby(['date','item','store'])\n",
    "gp12.filter(lambda x: x['sales'] >= 0).count()"
   ]
  },
  {
   "cell_type": "code",
   "execution_count": 37,
   "metadata": {},
   "outputs": [
    {
     "data": {
      "text/plain": [
       "date     3\n",
       "store    3\n",
       "item     3\n",
       "sales    3\n",
       "dtype: int64"
      ]
     },
     "execution_count": 37,
     "metadata": {},
     "output_type": "execute_result"
    }
   ],
   "source": [
    "gp12 = train_data_1_2.groupby(['date','item','store'])\n",
    "gp12.filter(lambda x: x['sales'] >= 140).count()"
   ]
  },
  {
   "cell_type": "code",
   "execution_count": 42,
   "metadata": {},
   "outputs": [
    {
     "name": "stdout",
     "output_type": "stream",
     "text": [
      "             date  store  item  sales\n",
      "21714  2017-06-17      2     2    150\n",
      "32643  2017-05-21      8     2    145\n",
      "32699  2017-07-16      8     2    144\n",
      "CPU times: user 14.8 s, sys: 4 ms, total: 14.9 s\n",
      "Wall time: 14.8 s\n"
     ]
    }
   ],
   "source": [
    "%%time\n",
    "# filter out of 36,520 rows\n",
    "# 14.9 seconds elapsed\n",
    "gp12 = train_data_1_2.groupby(['date','item','store'])\n",
    "print(gp12.filter(lambda x: x['sales'] >= 140))"
   ]
  },
  {
   "cell_type": "markdown",
   "metadata": {},
   "source": [
    "### Add aggreation function with conditon"
   ]
  },
  {
   "cell_type": "code",
   "execution_count": 43,
   "metadata": {},
   "outputs": [
    {
     "name": "stdout",
     "output_type": "stream",
     "text": [
      "             date  store  item  sales\n",
      "21714  2017-06-17      2     2    150\n",
      "32643  2017-05-21      8     2    145\n",
      "32699  2017-07-16      8     2    144\n",
      "CPU times: user 9.58 s, sys: 2 µs, total: 9.58 s\n",
      "Wall time: 9.58 s\n"
     ]
    }
   ],
   "source": [
    "%%time\n",
    "# filter out of 36,520 rows\n",
    "# 14.9 seconds elapsed\n",
    "gp12 = train_data_1_2.groupby(['date','item','store'])\n",
    "print(gp12.filter(lambda x: x['sales'].sum() >= 140))"
   ]
  },
  {
   "cell_type": "code",
   "execution_count": 44,
   "metadata": {},
   "outputs": [
    {
     "name": "stdout",
     "output_type": "stream",
     "text": [
      "              date  store  item  sales\n",
      "222246  2016-07-24      2    13    204\n",
      "222596  2017-07-09      2    13    210\n",
      "258752  2016-07-10      2    15    207\n",
      "258759  2016-07-17      2    15    209\n",
      "259109  2017-07-02      2    15    231\n",
      "259116  2017-07-09      2    15    205\n",
      "313889  2017-07-02      2    18    208\n",
      "313895  2017-07-08      2    18    204\n",
      "313938  2017-08-20      2    18    201\n",
      "386579  2016-07-17      2    22    214\n",
      "496495  2017-07-08      2    28    206\n",
      "496496  2017-07-09      2    28    203\n",
      "507109  2016-07-31      8    28    202\n",
      "507444  2017-07-01      8    28    204\n",
      "806909  2017-07-02      2    45    205\n",
      "806930  2017-07-23      2    45    205\n",
      "CPU times: user 6min 14s, sys: 164 ms, total: 6min 14s\n",
      "Wall time: 6min 13s\n"
     ]
    }
   ],
   "source": [
    "%%time\n",
    "# out of 913,000 rows\n",
    "# 6mins 13s elpased\n",
    "t_g = train_data.groupby(['date','item','store'])\n",
    "print(t_g.filter(lambda x: x['sales'] > 200))"
   ]
  },
  {
   "cell_type": "markdown",
   "metadata": {},
   "source": [
    "## Add new store id and county id"
   ]
  },
  {
   "cell_type": "code",
   "execution_count": 46,
   "metadata": {},
   "outputs": [],
   "source": [
    "# # compute unique id number\n",
    "# n_item_id = train_df.item_id.unique()\n",
    "# train_df['county'] = 0 ## Add county column\n",
    "# for item in n_item_id:\n",
    "#     j = int(item) -1\n",
    "#     store = int(j/5) + 1\n",
    "#     county = int(j/25) + 1\n",
    "#     # print(\"item id {}: store {}, county {}\".format(item, store, county))\n",
    "#     train_df.store[train_df.item_id == item] = store\n",
    "#     train_df.county[train_df.item_id == item] = county\n",
    "# train_df.groupby(['item_id','store','county']).count()\n",
    "    \n",
    "    \n"
   ]
  },
  {
   "cell_type": "code",
   "execution_count": null,
   "metadata": {},
   "outputs": [],
   "source": []
  }
 ],
 "metadata": {
  "kernelspec": {
   "display_name": "conda_python3",
   "language": "python",
   "name": "conda_python3"
  },
  "language_info": {
   "codemirror_mode": {
    "name": "ipython",
    "version": 3
   },
   "file_extension": ".py",
   "mimetype": "text/x-python",
   "name": "python",
   "nbconvert_exporter": "python",
   "pygments_lexer": "ipython3",
   "version": "3.6.5"
  }
 },
 "nbformat": 4,
 "nbformat_minor": 4
}
